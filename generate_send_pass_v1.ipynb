{
 "cells": [
  {
   "cell_type": "code",
   "execution_count": 4,
   "id": "480ff1f3",
   "metadata": {},
   "outputs": [],
   "source": [
    "# импорт библиотек для работы программы\n",
    "\n",
    "import pandas as pd\n",
    "import os\n",
    "import random\n",
    "import string\n",
    "import smtplib\n",
    "from email.mime.text import MIMEText\n",
    "\n",
    "# Если в этой ячейке будут ошибки, то значит, что какой-то библиотеки у тебя на компьютере нет\n",
    "# Нужно установить ее, выполнив в терминале (программа в маке) команду, например:\n",
    "# pip3 install smtplib"
   ]
  },
  {
   "cell_type": "markdown",
   "id": "3deedef5",
   "metadata": {},
   "source": [
    "## Ячейка настроек. Устанавливать настройки только в ней"
   ]
  },
  {
   "cell_type": "code",
   "execution_count": 5,
   "id": "aa137c5e",
   "metadata": {},
   "outputs": [],
   "source": [
    "# Укажи путь до .xlsx файла с имейлами\n",
    "# в файле должен быть один лист, с одной колонкой email и списком адресов\n",
    "\n",
    "input_path = r\"/Users/vitaly/Desktop/mails.xlsx\"\n",
    "\n",
    "# Укажи адрес эксельки с выводом (выведутся адреса и сгенерированные пароли)\n",
    "output_path = r\"/Users/vitaly/Desktop/mails_n_pass.xlsx\"\n",
    "\n",
    "# Отправлять письма? 1 если да, 0 если нет. Если нет, то просто сгенерируем эксельку с паролями\n",
    "send_email = 1\n",
    "\n",
    "# Длина пароля\n",
    "pass_length = 8\n",
    "\n",
    "# почта, с которой нужно отправить сообщение \n",
    "your_email = 'yourmail@gmail.com'\n",
    "# пароль к почте для приложений (это не тот же самый пароль, что ты использешь для входа)\n",
    "# гугл запрещает доступ автоматически по тому же паолю, по которому входит человек\n",
    "# поэтому нужно для своей почты сгенерировать пароль для приложений\n",
    "# получить паролль для приложений можно здесь (5 мин)\n",
    "# https://support.google.com/accounts/answer/185833?visit_id=637981830698552150-915730886&p=InvalidSecondFactor&rd=1\n",
    "your_password = 'yourgeneratedpass'\n",
    "\n",
    "# Вообще отправка писем это немного индивидуальная вещь\n",
    "# я сделал свой пример для gmail\n",
    "# у него вот такие настройки:\n",
    "smtp_server = \"smtp.gmail.com\"\n",
    "port = 587\n",
    "# если будешь пользоваться корп почтой, то они будут другими.\n",
    "# Здесь нужна будет помощь сисадминов, чтоб они подсказали с сервером, портом\n",
    "\n",
    "\n",
    "# После установки всех настроек нажми Kernel -> Restart and run all\n",
    "# 1) Первый раз прогони с send_email = 0, чтобы убедиться, что эксельки читаются и пишутся\n",
    "# 2) Второй раз прогони со своей почтой в файлике с получателями, для примера.\n",
    "# 3) Если все ок - запускай с полным списком получателей"
   ]
  },
  {
   "cell_type": "markdown",
   "id": "c4e0f859",
   "metadata": {},
   "source": [
    "## Процесс"
   ]
  },
  {
   "cell_type": "code",
   "execution_count": 6,
   "id": "55096f94",
   "metadata": {},
   "outputs": [
    {
     "name": "stdout",
     "output_type": "stream",
     "text": [
      "В файле 1 адреса(ов)\n"
     ]
    }
   ],
   "source": [
    "# Прочитаем файл с почтой\n",
    "\n",
    "mails = pd.read_excel(input_path)\n",
    "\n",
    "print(f'В файле {len(mails)} адреса(ов)')"
   ]
  },
  {
   "cell_type": "code",
   "execution_count": 7,
   "id": "8802a028",
   "metadata": {},
   "outputs": [],
   "source": [
    "# Сгенерируем пароль для каждого адреса\n",
    "\n",
    "# функция генерации пароля\n",
    "def generate_pass(pass_length):\n",
    "    letters = string.ascii_lowercase + string.digits\n",
    "    pswrd = ''.join(random.choice(letters) for i in range(pass_length))\n",
    "    return pswrd\n",
    "\n",
    "# Для каждой почты сгенерируем пароли\n",
    "mails['pass'] = [generate_pass(pass_length) for row in mails.index]\n",
    "\n",
    "# Попутно сохраним файл с паролями, чтоб не потерять\n",
    "mails.to_excel(output_path)"
   ]
  },
  {
   "cell_type": "code",
   "execution_count": 8,
   "id": "0ffcf6d2",
   "metadata": {},
   "outputs": [
    {
     "data": {
      "text/html": [
       "<div>\n",
       "<style scoped>\n",
       "    .dataframe tbody tr th:only-of-type {\n",
       "        vertical-align: middle;\n",
       "    }\n",
       "\n",
       "    .dataframe tbody tr th {\n",
       "        vertical-align: top;\n",
       "    }\n",
       "\n",
       "    .dataframe thead th {\n",
       "        text-align: right;\n",
       "    }\n",
       "</style>\n",
       "<table border=\"1\" class=\"dataframe\">\n",
       "  <thead>\n",
       "    <tr style=\"text-align: right;\">\n",
       "      <th></th>\n",
       "      <th>email</th>\n",
       "      <th>pass</th>\n",
       "    </tr>\n",
       "  </thead>\n",
       "  <tbody>\n",
       "    <tr>\n",
       "      <th>0</th>\n",
       "      <td>zederblatt@gmail.com</td>\n",
       "      <td>79qxw0fl</td>\n",
       "    </tr>\n",
       "  </tbody>\n",
       "</table>\n",
       "</div>"
      ],
      "text/plain": [
       "                  email      pass\n",
       "0  zederblatt@gmail.com  79qxw0fl"
      ]
     },
     "execution_count": 8,
     "metadata": {},
     "output_type": "execute_result"
    }
   ],
   "source": [
    "# Посмотрим на первые пять строчек получившегося набора \n",
    "\n",
    "mails.head(5)"
   ]
  },
  {
   "cell_type": "code",
   "execution_count": 9,
   "id": "3c7eb951",
   "metadata": {},
   "outputs": [
    {
     "name": "stdout",
     "output_type": "stream",
     "text": [
      "Начинаем отправлять сообщения!\n",
      "0: сообщение на zederblatt@gmail.com с паролем 79qxw0fl отправлено\n"
     ]
    }
   ],
   "source": [
    "# функция по отправке сообщения\n",
    "def emailing(your_email, your_password, email_to, subject, message\n",
    "             , smtp_server = \"smtp.gmail.com\"\n",
    "             , port = 587):\n",
    "\n",
    "    server = smtplib.SMTP(host = smtp_server, port = port)\n",
    "    server.starttls()\n",
    "    server.login(your_email, your_password)\n",
    "    \n",
    "    msg = MIMEText(message)\n",
    "    msg['Subject'] = subject\n",
    "    msg['From'] = your_email\n",
    "    msg['To'] = email_to\n",
    "\n",
    "    server.sendmail(your_email, [email_to], msg.as_string())\n",
    "    server.quit()\n",
    "\n",
    "    \n",
    "# Непосредственно запуск функции и отправка сообщения\n",
    "if send_email == 1:\n",
    "    print('Начинаем отправлять сообщения!')\n",
    "    for row in mails.reset_index().index:\n",
    "        try:\n",
    "            emailing(your_email=your_email, your_password=your_password\n",
    "                   , email_to=mails.loc[row, 'email']\n",
    "                   , subject=\"пароль от расчетного листка\"\n",
    "                   , message=f\"ваш пароль от расчетного листка: {mails.loc[row, 'pass']}\"\n",
    "                    )\n",
    "            print(f\"{row}: сообщение на {mails.loc[row, 'email']} с паролем {mails.loc[row, 'pass']} отправлено\")\n",
    "        except Exception as e:\n",
    "            print(f\"\"\"{row} ВНИМАНИЕ: сообщение на {mails.loc[row, 'email']} с паролем {mails.loc[row, 'pass']} НЕ отправлено!\n",
    "            по причине: {e}\"\"\") \n",
    "else:\n",
    "    print('Сообщения не будут отправлены, т.к. send_email = 0')"
   ]
  },
  {
   "cell_type": "code",
   "execution_count": null,
   "id": "23238a40",
   "metadata": {},
   "outputs": [],
   "source": []
  }
 ],
 "metadata": {
  "kernelspec": {
   "display_name": "Python 3.9.2 64-bit",
   "language": "python",
   "name": "python3"
  },
  "language_info": {
   "codemirror_mode": {
    "name": "ipython",
    "version": 3
   },
   "file_extension": ".py",
   "mimetype": "text/x-python",
   "name": "python",
   "nbconvert_exporter": "python",
   "pygments_lexer": "ipython3",
   "version": "3.9.2"
  },
  "vscode": {
   "interpreter": {
    "hash": "aee8b7b246df8f9039afb4144a1f6fd8d2ca17a180786b69acc140d282b71a49"
   }
  }
 },
 "nbformat": 4,
 "nbformat_minor": 5
}
